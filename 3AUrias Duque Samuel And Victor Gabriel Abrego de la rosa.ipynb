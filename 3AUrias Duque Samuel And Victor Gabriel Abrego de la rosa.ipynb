{
 "cells": [
  {
   "cell_type": "markdown",
   "metadata": {},
   "source": [
    "## Introduction to Python and Anaconda"
   ]
  },
  {
   "cell_type": "raw",
   "metadata": {},
   "source": [
    "In order to use python, you must download the program which is \"Python 3\" and \"Anaconda\" which these programs haves their own funcionalty that is: Pythons 3 is a programming system while anaconda IS a Library for a variety of functions such as a notebook, analisis, etc."
   ]
  },
  {
   "cell_type": "markdown",
   "metadata": {},
   "source": [
    "## How to start using it"
   ]
  },
  {
   "cell_type": "raw",
   "metadata": {},
   "source": [
    "First we must choose between what we want it to be such as:\n",
    "-Code\n",
    "-Heading\n",
    "-etc"
   ]
  },
  {
   "cell_type": "markdown",
   "metadata": {},
   "source": [
    "# Code"
   ]
  },
  {
   "cell_type": "raw",
   "metadata": {},
   "source": [
    "Now then if we want to put a code we must choose the option \"Code\" Which will be like this:"
   ]
  },
  {
   "cell_type": "code",
   "execution_count": 1,
   "metadata": {},
   "outputs": [
    {
     "name": "stdout",
     "output_type": "stream",
     "text": [
      "Hello World\n"
     ]
    }
   ],
   "source": [
    "print(\"Hello World\")"
   ]
  },
  {
   "cell_type": "raw",
   "metadata": {},
   "source": [
    "In this code we just used the code or command \"print()\" and used the signs \"\" to clarify that its a text, but if we dont put these signs \"\" the program will try to look for a variable called Hello world which it doesnt exist."
   ]
  },
  {
   "cell_type": "markdown",
   "metadata": {},
   "source": [
    "# Heading"
   ]
  },
  {
   "cell_type": "raw",
   "metadata": {},
   "source": [
    "Now in heading we just need to select the option \"Heading\" and that would be it or in text mode Which is \"RawNBConvert\" Just put this Sign \"#\" and it will automatically put it as a heading. Heres an example:"
   ]
  },
  {
   "cell_type": "markdown",
   "metadata": {},
   "source": [
    "# Hello there"
   ]
  },
  {
   "cell_type": "markdown",
   "metadata": {},
   "source": [
    "# Images"
   ]
  },
  {
   "cell_type": "raw",
   "metadata": {},
   "source": [
    "Now then, in order to add an image to our python notebook we must first select the option \"Code\" and use the command \n",
    "\"![Python3]()\" and inside the () we must put the link of the image and that would be all."
   ]
  },
  {
   "cell_type": "raw",
   "metadata": {},
   "source": []
  },
  {
   "cell_type": "raw",
   "metadata": {},
   "source": [
    "Now then we will start to do some excercises."
   ]
  },
  {
   "cell_type": "markdown",
   "metadata": {},
   "source": [
    "# Excercise #1: Print()"
   ]
  },
  {
   "cell_type": "raw",
   "metadata": {},
   "source": [
    "Now in this excercise we just need to use the command \"print()\" in order to execute a text in the program And we must use the \"\" signs to asign it as a text, if we dont, then the program will try to find a variable called The name you put inside which will it wont exist. Example:"
   ]
  },
  {
   "cell_type": "code",
   "execution_count": 3,
   "metadata": {},
   "outputs": [
    {
     "name": "stdout",
     "output_type": "stream",
     "text": [
      "Hello World\n"
     ]
    }
   ],
   "source": [
    "print(\"Hello World\") #Here we just put the text we want it to say"
   ]
  },
  {
   "cell_type": "raw",
   "metadata": {},
   "source": [
    "Other way to execute this command without adding the text inisde is by assigning a variable:"
   ]
  },
  {
   "cell_type": "code",
   "execution_count": 4,
   "metadata": {},
   "outputs": [
    {
     "name": "stdout",
     "output_type": "stream",
     "text": [
      "Hello World\n"
     ]
    }
   ],
   "source": [
    "x=\"Hello World\" #Here we assignes a variable \n",
    "print(x) #And here we are calling the variable we assigned"
   ]
  },
  {
   "cell_type": "markdown",
   "metadata": {},
   "source": [
    "# Excercise #2 Comments"
   ]
  },
  {
   "cell_type": "raw",
   "metadata": {},
   "source": [
    "Here  the only thing we must use is this sign \"#\" to add a comment.\n",
    "Example:"
   ]
  },
  {
   "cell_type": "code",
   "execution_count": 5,
   "metadata": {},
   "outputs": [
    {
     "name": "stdout",
     "output_type": "stream",
     "text": [
      "Hello World\n"
     ]
    }
   ],
   "source": [
    "print(\"Hello World\") # I am a comment Hello "
   ]
  },
  {
   "cell_type": "code",
   "execution_count": 1,
   "metadata": {},
   "outputs": [
    {
     "name": "stdout",
     "output_type": "stream",
     "text": [
      "This is something\n"
     ]
    }
   ],
   "source": [
    "print(\"This is something\") #I may be a comment who knows, mystery."
   ]
  },
  {
   "cell_type": "raw",
   "metadata": {},
   "source": [
    "Comments will not affect the code we did, such as any code. The programm will only read the code but ignore the comment where the sign started."
   ]
  },
  {
   "cell_type": "markdown",
   "metadata": {},
   "source": [
    "# Excercise #3 Numbers and Math"
   ]
  },
  {
   "cell_type": "raw",
   "metadata": {},
   "source": [
    "Here we are just representing every symbol in maths in this language and we must use these in order to make the programm read it:\n",
    "- + Plus\n",
    "- - Minus\n",
    "- / Slash\n",
    "- * Asterisk\n",
    "- % Percant\n",
    "- < Less than \n",
    "- > Greater than \n",
    "- <= Less than equal\n",
    "- >= Greater than equal"
   ]
  },
  {
   "cell_type": "raw",
   "metadata": {},
   "source": [
    "Here's a example on how to implement math in this language using the math symbols:"
   ]
  },
  {
   "cell_type": "code",
   "execution_count": 7,
   "metadata": {},
   "outputs": [
    {
     "name": "stdout",
     "output_type": "stream",
     "text": [
      "What's 1 apple plus another apple?\n",
      "2 Apples!\n"
     ]
    }
   ],
   "source": [
    "print(\"What's 1 apple plus another apple?\")\n",
    "print(1+1,\"Apples!\")\n"
   ]
  },
  {
   "cell_type": "markdown",
   "metadata": {},
   "source": [
    "# Excercise #4 Variables and Names"
   ]
  },
  {
   "cell_type": "raw",
   "metadata": {},
   "source": [
    "Here the only thing we must know how to do is to assign a variable to a letter or a word, like the next examples:"
   ]
  },
  {
   "cell_type": "code",
   "execution_count": 8,
   "metadata": {},
   "outputs": [
    {
     "name": "stdout",
     "output_type": "stream",
     "text": [
      "I have 1 Fish Because my Cat ate 1 Fish  and then my Dog ate my Cat\n"
     ]
    }
   ],
   "source": [
    "x= \"Fish\" \n",
    "y= \"Cat\"\n",
    "z= \"Dog\"\n",
    "print(\"I have 1\",x,\"Because my\",y, \"ate 1\",x ,\" and then my\",z,\"ate my\",y )"
   ]
  },
  {
   "cell_type": "code",
   "execution_count": 13,
   "metadata": {},
   "outputs": [
    {
     "name": "stdout",
     "output_type": "stream",
     "text": [
      "This coca cost between $10 and $5\n"
     ]
    }
   ],
   "source": [
    "x= \"$10\"\n",
    "y= \"$5\"\n",
    "print(\"This coca cost between\",x,\"and\",y)"
   ]
  },
  {
   "cell_type": "markdown",
   "metadata": {},
   "source": [
    "# Excercise #5 More variables and Printing"
   ]
  },
  {
   "cell_type": "raw",
   "metadata": {},
   "source": [
    "Here we are just gonna use another form of adding a variable to the sentence without using the seperating comas, instead we use {} these signs.Like the next example:"
   ]
  },
  {
   "cell_type": "code",
   "execution_count": 18,
   "metadata": {},
   "outputs": [
    {
     "name": "stdout",
     "output_type": "stream",
     "text": [
      "MY name is Juan De Leon and my age is 20 and my hair is color Black and my eyes are color red... I think\n"
     ]
    }
   ],
   "source": [
    "my_name= \"Juan De Leon\"\n",
    "my_age= 20\n",
    "my_hair= \"Black\"\n",
    "my_eyes= \"red\"\n",
    "print(f\"MY name is {my_name} and my age is {my_age} and my hair is color {my_hair} and my eyes are color {my_eyes}... I think\") "
   ]
  },
  {
   "cell_type": "raw",
   "metadata": {},
   "source": [
    "Now, as you see in order to make this work you use the command print(), then you add what you want to say, then places where you want your variable to be just add these signs {}, And for the last part is very important, you must add a \"f\" at the begining of your sentence and inside of the () in order to make it work."
   ]
  },
  {
   "cell_type": "markdown",
   "metadata": {},
   "source": [
    "# Excercise #6 Strings and text"
   ]
  },
  {
   "cell_type": "raw",
   "metadata": {},
   "source": [
    "Here strings are texts that are variables inside another varible, in this topic it gets kinda confusing. since strings are almost the same as variables."
   ]
  },
  {
   "cell_type": "code",
   "execution_count": 22,
   "metadata": {},
   "outputs": [
    {
     "name": "stdout",
     "output_type": "stream",
     "text": [
      "John,Hello\n"
     ]
    }
   ],
   "source": [
    "x= \"Hello\"\n",
    "y= f\"John,{x}\"\n",
    "print(y)"
   ]
  },
  {
   "cell_type": "raw",
   "metadata": {},
   "source": [
    "Here another way to tring to sentnces:"
   ]
  },
  {
   "cell_type": "code",
   "execution_count": 23,
   "metadata": {},
   "outputs": [
    {
     "name": "stdout",
     "output_type": "stream",
     "text": [
      "Hello,John\n"
     ]
    }
   ],
   "source": [
    "x= \"Hello,\"\n",
    "y= \"John\"\n",
    "print(x+y)"
   ]
  },
  {
   "cell_type": "raw",
   "metadata": {},
   "source": [
    "Basically, in strings you can call 3 variables or more variables by just one variable."
   ]
  },
  {
   "cell_type": "markdown",
   "metadata": {},
   "source": [
    "# Excercise #7 More printing"
   ]
  },
  {
   "cell_type": "raw",
   "metadata": {},
   "source": [
    "Basically in this We are gonna use the printing command in a diferent way, instead of adding vairables By comas and {}, We are gonna use the Plus to add a sentence by order:"
   ]
  },
  {
   "cell_type": "code",
   "execution_count": 26,
   "metadata": {},
   "outputs": [
    {
     "name": "stdout",
     "output_type": "stream",
     "text": [
      "Hello Boy,Want a Ballon?\n"
     ]
    }
   ],
   "source": [
    "x=\"Hello \"\n",
    "y=\"Boy,\"\n",
    "z=\"Want \"\n",
    "q=\"a \"\n",
    "w=\"Ballon?\"\n",
    "print(x+y+z+q+w)"
   ]
  },
  {
   "cell_type": "markdown",
   "metadata": {},
   "source": [
    "# Excercise #8 Printing,Printing..."
   ]
  },
  {
   "cell_type": "raw",
   "metadata": {},
   "source": [
    "In this command it is more of a complicated way to print in, here we dont use any easy commands, Here we just use the variable and a dot to print stuff inside the print command, and using the word format infront of the variable we called in first."
   ]
  },
  {
   "cell_type": "code",
   "execution_count": 32,
   "metadata": {},
   "outputs": [
    {
     "name": "stdout",
     "output_type": "stream",
     "text": [
      "1 2 3 4 \n",
      "three four two one \n"
     ]
    }
   ],
   "source": [
    "hello= \"{} {} {} {} \" #range where the numbers will go, if it goes higher it will have an error\n",
    "\n",
    "print(hello.format(1,2,3,4))\n",
    "print(hello.format(\"three\",\"four\",\"two\",\"one\"))"
   ]
  },
  {
   "cell_type": "markdown",
   "metadata": {},
   "source": [
    "# Excercise #9 Printing,Printing,Printing..."
   ]
  },
  {
   "cell_type": "raw",
   "metadata": {},
   "source": [
    "So this excercise is something that repeats from the other excercise:"
   ]
  },
  {
   "cell_type": "code",
   "execution_count": 4,
   "metadata": {},
   "outputs": [
    {
     "name": "stdout",
     "output_type": "stream",
     "text": [
      "These are the years that something new happened to me: \n",
      "2000 \n",
      "2005 \n",
      "2010 \n",
      "2015\n",
      "And here are the seasons that moslty happened in Winter,spring\n"
     ]
    }
   ],
   "source": [
    "x= \"\\n2000 \\n2005 \\n2010 \\n2015\"\n",
    "y= \"Winter,spring\"\n",
    "\n",
    "print(\"These are the years that something new happened to me:\",x)\n",
    "print(\"And here are the seasons that moslty happened in:\",y)"
   ]
  },
  {
   "cell_type": "markdown",
   "metadata": {},
   "source": [
    "The only new thing that we add here is the command \\n in which it spaces the sentences per line."
   ]
  },
  {
   "cell_type": "markdown",
   "metadata": {},
   "source": [
    "# Excercise #10 WHat was that?"
   ]
  },
  {
   "cell_type": "raw",
   "metadata": {},
   "source": [
    "Here we learn to use the escape quote which is very necesary if your using variuos quotes inside another."
   ]
  },
  {
   "cell_type": "code",
   "execution_count": 9,
   "metadata": {},
   "outputs": [
    {
     "name": "stdout",
     "output_type": "stream",
     "text": [
      "\tI am here instead of close to the wall\n",
      "And I am here, near the wall\n"
     ]
    }
   ],
   "source": [
    "x= \"\\tI am here instead of close to the wall\"\n",
    "y= \"\\nAnd I am here, near the wall\"\n",
    "\n",
    "print(x+y)"
   ]
  },
  {
   "cell_type": "raw",
   "metadata": {},
   "source": [
    "Now as you see we used the \\t to make a space between something, in this case from the wall.\n",
    "Now we will use the \\n to split twoo sentences per line."
   ]
  },
  {
   "cell_type": "code",
   "execution_count": 13,
   "metadata": {},
   "outputs": [
    {
     "name": "stdout",
     "output_type": "stream",
     "text": [
      "I am here but my other part\n",
      "IS over here\n"
     ]
    }
   ],
   "source": [
    "x= \"I am here but my other part\\nIS over here\"\n",
    "\n",
    "print(x)"
   ]
  },
  {
   "cell_type": "raw",
   "metadata": {},
   "source": [
    "And in order to use a simple quote, slash or even double quote we must add a backslash just for the program to avoid getting confused,like the next example:"
   ]
  },
  {
   "cell_type": "code",
   "execution_count": 17,
   "metadata": {},
   "outputs": [
    {
     "name": "stdout",
     "output_type": "stream",
     "text": [
      "I \\ am \\ a \\ cat\n",
      "I'm Here\n",
      "I'm \"here\"\n"
     ]
    }
   ],
   "source": [
    "x= \"I \\\\ am \\\\ a \\\\ cat\"\n",
    "y= \"I\\'m Here\"\n",
    "z= \"I\\'m \\\"here\\\"\"\n",
    "\n",
    "print(x)\n",
    "print(y)\n",
    "print(z)"
   ]
  }
 ],
 "metadata": {
  "kernelspec": {
   "display_name": "Python 3",
   "language": "python",
   "name": "python3"
  },
  "language_info": {
   "codemirror_mode": {
    "name": "ipython",
    "version": 3
   },
   "file_extension": ".py",
   "mimetype": "text/x-python",
   "name": "python",
   "nbconvert_exporter": "python",
   "pygments_lexer": "ipython3",
   "version": "3.7.4"
  }
 },
 "nbformat": 4,
 "nbformat_minor": 2
}
